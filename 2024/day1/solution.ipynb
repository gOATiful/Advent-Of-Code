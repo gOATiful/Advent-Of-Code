{
 "cells": [
  {
   "cell_type": "code",
   "execution_count": null,
   "metadata": {},
   "outputs": [],
   "source": [
    "def load_input(path: str) -> list[str]:\n",
    "    with open(path) as infile:\n",
    "        return infile.read().splitlines()"
   ]
  },
  {
   "cell_type": "markdown",
   "metadata": {},
   "source": [
    "# Input 1"
   ]
  },
  {
   "cell_type": "code",
   "execution_count": null,
   "metadata": {},
   "outputs": [
    {
     "data": {
      "text/plain": [
       "1580061"
      ]
     },
     "execution_count": 10,
     "metadata": {},
     "output_type": "execute_result"
    }
   ],
   "source": [
    "puzzle_input = load_input(\"example.txt\")\n",
    "# puzzle_input = load_input(\"input.txt\")\n",
    "\n",
    "data = [list(map(int, line.split(\"  \"))) for line in puzzle_input]\n",
    "left_list = [x[0] for x in data]\n",
    "right_list = [x[1] for x in data]\n",
    "\n",
    "left_list.sort()\n",
    "right_list.sort()\n",
    "\n",
    "sum = 0\n",
    "for i in range(len(left_list)):\n",
    "    diff = abs(left_list[i] - right_list[i])\n",
    "    sum += diff\n",
    "sum"
   ]
  },
  {
   "cell_type": "markdown",
   "metadata": {},
   "source": [
    "# Input 2"
   ]
  },
  {
   "cell_type": "code",
   "execution_count": null,
   "metadata": {},
   "outputs": [
    {
     "data": {
      "text/plain": [
       "23046913"
      ]
     },
     "execution_count": 14,
     "metadata": {},
     "output_type": "execute_result"
    }
   ],
   "source": [
    "def hist(data: list[int]):\n",
    "    h = {}\n",
    "    for d in data:\n",
    "        if d not in h.keys():\n",
    "            h[d] = 0\n",
    "        h[d] += 1\n",
    "    return h\n",
    "\n",
    "puzzle_input = load_input(\"example.txt\")\n",
    "# puzzle_input = load_input(\"input.txt\")\n",
    "\n",
    "\n",
    "data = [list(map(int, line.split(\"  \"))) for line in puzzle_input]\n",
    "left_list = [x[0] for x in data]\n",
    "right_list = [x[1] for x in data]\n",
    "\n",
    "histogram = hist(right_list)\n",
    "\n",
    "\n",
    "result = 0\n",
    "for x in left_list:\n",
    "    if x in histogram.keys():\n",
    "        result += x * histogram[x]\n",
    "    \n",
    "result"
   ]
  },
  {
   "cell_type": "code",
   "execution_count": null,
   "metadata": {},
   "outputs": [],
   "source": []
  }
 ],
 "metadata": {
  "kernelspec": {
   "display_name": "env",
   "language": "python",
   "name": "python3"
  },
  "language_info": {
   "codemirror_mode": {
    "name": "ipython",
    "version": 3
   },
   "file_extension": ".py",
   "mimetype": "text/x-python",
   "name": "python",
   "nbconvert_exporter": "python",
   "pygments_lexer": "ipython3",
   "version": "3.11.9"
  }
 },
 "nbformat": 4,
 "nbformat_minor": 2
}
