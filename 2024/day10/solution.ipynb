{
 "cells": [
  {
   "cell_type": "code",
   "execution_count": 2,
   "metadata": {},
   "outputs": [],
   "source": [
    "def load_input(path: str) -> list[str]:\n",
    "    with open(path) as infile:\n",
    "        return infile.read().splitlines()\n"
   ]
  },
  {
   "cell_type": "markdown",
   "metadata": {},
   "source": [
    "# Part 1"
   ]
  },
  {
   "cell_type": "code",
   "execution_count": 3,
   "metadata": {},
   "outputs": [
    {
     "data": {
      "text/plain": [
       "[([(0, 0),\n",
       "   (1, 0),\n",
       "   (2, 0),\n",
       "   (3, 0),\n",
       "   (3, 1),\n",
       "   (3, 2),\n",
       "   (3, 3),\n",
       "   (2, 3),\n",
       "   (1, 3),\n",
       "   (0, 3)],\n",
       "  [0, 1, 2, 3, 4, 5, 6, 7, 8, 9])]"
      ]
     },
     "metadata": {},
     "output_type": "display_data"
    }
   ],
   "source": [
    "puzzle_input = load_input(\"example.txt\")\n",
    "# puzzle_input = load_input(\"input.txt\")\n",
    "\n",
    "\n",
    "\n",
    "\n",
    "def parse_input(input:list[str]):\n",
    "    out = []\n",
    "    for line in input:\n",
    "        out.append([int(x) for x in list(line)])\n",
    "    return out\n",
    "\n",
    "def find_trailheads(topography):\n",
    "    heads = []\n",
    "    for y in range(len(topography)):\n",
    "        for x in range(len(topography[0])):\n",
    "            if topography[y][x] == 0:\n",
    "                heads.append((x, y))\n",
    "    return heads\n",
    "\n",
    "\n",
    "def find_routes(topography, pos, visited=[], inclination=[]):\n",
    "    x, y = pos\n",
    "    height = topography[y][x]\n",
    "    \n",
    "    routes = []\n",
    "    # if slope is too steep, ignore the way\n",
    "    if len(inclination) > 0 and height - inclination[-1] != 1:\n",
    "        return False\n",
    "    \n",
    "    inclination.append(height)\n",
    "    visited.append(pos)\n",
    "    if height == 9:\n",
    "        return [(visited, inclination)]\n",
    "    directions = [(1, 0), # east\n",
    "                  (0, 1), # north\n",
    "                  (-1, 0), # west\n",
    "                  (0, -1), # south\n",
    "                  ]\n",
    "    for d in directions:\n",
    "        next_x = x + d[0]\n",
    "        next_y = y + d[1]\n",
    "\n",
    "        # skip if next step is outside the map\n",
    "        if next_x < 0 or next_x >= len(topography[0]) or next_y < 0 or next_y >= len(topography):\n",
    "            continue         \n",
    "        # skip if already visited\n",
    "        if (next_x, next_y) in visited:\n",
    "            continue\n",
    "        route = find_routes(topographry, (next_x, next_y), visited, inclination)\n",
    "        if route:\n",
    "            routes.extend(route)\n",
    "    return routes\n",
    "            \n",
    "\n",
    "topographry = parse_input(puzzle_input)\n",
    "\n",
    "trailheads = find_trailheads(topographry)\n",
    "\n",
    "\n",
    "for head in trailheads:\n",
    "    display(find_routes(topographry, head))"
   ]
  },
  {
   "cell_type": "markdown",
   "metadata": {},
   "source": [
    "# Part 2"
   ]
  },
  {
   "cell_type": "code",
   "execution_count": 4,
   "metadata": {},
   "outputs": [],
   "source": [
    "puzzle_input = load_input(\"example.txt\")\n",
    "# puzzle_input = load_input(\"input.txt\")\n",
    "\n"
   ]
  }
 ],
 "metadata": {
  "kernelspec": {
   "display_name": "env",
   "language": "python",
   "name": "python3"
  },
  "language_info": {
   "codemirror_mode": {
    "name": "ipython",
    "version": 3
   },
   "file_extension": ".py",
   "mimetype": "text/x-python",
   "name": "python",
   "nbconvert_exporter": "python",
   "pygments_lexer": "ipython3",
   "version": "3.12.5"
  }
 },
 "nbformat": 4,
 "nbformat_minor": 2
}
