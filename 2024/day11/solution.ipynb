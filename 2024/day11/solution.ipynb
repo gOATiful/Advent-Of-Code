{
 "cells": [
  {
   "cell_type": "code",
   "execution_count": 2,
   "metadata": {},
   "outputs": [],
   "source": [
    "def load_input(path: str) -> list[str]:\n",
    "    with open(path) as infile:\n",
    "        return infile.read().splitlines()\n"
   ]
  },
  {
   "cell_type": "markdown",
   "metadata": {},
   "source": [
    "# Part 1"
   ]
  },
  {
   "cell_type": "code",
   "execution_count": 3,
   "metadata": {},
   "outputs": [
    {
     "data": {
      "text/plain": [
       "183248"
      ]
     },
     "metadata": {},
     "output_type": "display_data"
    }
   ],
   "source": [
    "# puzzle_input = load_input(\"example.txt\")[0]\n",
    "puzzle_input = load_input(\"input.txt\")[0]\n",
    "\n",
    "blicks = 25\n",
    "\n",
    "def apply_rules(stone: int) -> list[int]:\n",
    "    if stone == 0:\n",
    "        return [1]\n",
    "    stone_str = f\"{stone}\"\n",
    "    len_str = len(stone_str)\n",
    "    mid = int(len_str/2)\n",
    "    if len_str % 2 == 0:\n",
    "        return [int(stone_str[:mid]), int(stone_str[mid:])]\n",
    "    return [stone * 2024]\n",
    "\n",
    "\n",
    "def blink(stones: list[int]):\n",
    "    new_stones = []\n",
    "    for stone in stones:\n",
    "        new_stones.extend(apply_rules(stone))\n",
    "    return new_stones\n",
    "\n",
    "stones = puzzle_input.split(\" \")\n",
    "stones = [int(x) for x in stones]\n",
    "for _ in range(blicks):\n",
    "    stones = blink(stones)\n",
    "\n",
    "\n",
    "display(len(stones))"
   ]
  },
  {
   "cell_type": "markdown",
   "metadata": {},
   "source": [
    "# Part 2"
   ]
  },
  {
   "cell_type": "code",
   "execution_count": null,
   "metadata": {},
   "outputs": [
    {
     "data": {
      "text/plain": [
       "218811774248729"
      ]
     },
     "metadata": {},
     "output_type": "display_data"
    }
   ],
   "source": [
    "from functools import cache\n",
    "\n",
    "# puzzle_input = load_input(\"example.txt\")[0]\n",
    "puzzle_input = load_input(\"input.txt\")[0]\n",
    "stones = [int(x) for x in puzzle_input.split(\" \")]\n",
    "\n",
    "\n",
    "@cache\n",
    "def applyRules(stone, steps):\n",
    "    if steps == 0:\n",
    "        return 1\n",
    "    if stone == 0:\n",
    "        return applyRules(1, steps - 1)\n",
    "    stone_str = str(stone)\n",
    "    str_len = len(stone_str)\n",
    "    mid = str_len//2\n",
    "    if str_len % 2 == 0:\n",
    "        return applyRules(int(stone_str[:mid]), steps - 1) + applyRules(int(stone_str[mid:]), steps-1)\n",
    "    return applyRules(stone * 2024, steps-1)\n",
    "\n",
    "\n",
    "display(sum(applyRules(stone, 75) for stone in stones))"
   ]
  }
 ],
 "metadata": {
  "kernelspec": {
   "display_name": "env",
   "language": "python",
   "name": "python3"
  },
  "language_info": {
   "codemirror_mode": {
    "name": "ipython",
    "version": 3
   },
   "file_extension": ".py",
   "mimetype": "text/x-python",
   "name": "python",
   "nbconvert_exporter": "python",
   "pygments_lexer": "ipython3",
   "version": "3.12.5"
  }
 },
 "nbformat": 4,
 "nbformat_minor": 2
}
