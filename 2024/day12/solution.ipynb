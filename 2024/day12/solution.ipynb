{
 "cells": [
  {
   "cell_type": "code",
   "execution_count": 26,
   "metadata": {},
   "outputs": [],
   "source": [
    "def load_input(path: str) -> list[str]:\n",
    "    with open(path) as infile:\n",
    "        return infile.read().splitlines()\n"
   ]
  },
  {
   "cell_type": "markdown",
   "metadata": {},
   "source": [
    "# Part 1"
   ]
  },
  {
   "cell_type": "code",
   "execution_count": null,
   "metadata": {},
   "outputs": [
    {
     "data": {
      "text/plain": [
       "1450816"
      ]
     },
     "metadata": {},
     "output_type": "display_data"
    }
   ],
   "source": [
    "# puzzle_input = load_input(\"example.txt\")\n",
    "puzzle_input = load_input(\"input.txt\")\n",
    "\n",
    "\n",
    "map = [[y for y in x] for x in puzzle_input]\n",
    "\n",
    "\n",
    "def flood_fill(map, x, y, search_label, area=[]):\n",
    "    area = area.copy()\n",
    "    if x < 0 or x >= len(map[0]) or y < 0 or y >= len(map) or map[y][x] != search_label:\n",
    "        return area\n",
    "    node_label = map[y][x]\n",
    "    node = (x, y, node_label)\n",
    "    if node in area:\n",
    "        return area\n",
    "    area.append(node)\n",
    "    dirs = [(0, 1), (1, 0), (-1, 0), (0, -1)]\n",
    "    for d in dirs:\n",
    "        next_x = x + d[0]\n",
    "        next_y = y + d[1]\n",
    "        new_area = flood_fill(map, next_x, next_y, search_label, area)\n",
    "        if len(new_area) > len(area):\n",
    "            area = new_area\n",
    "    return area\n",
    "\n",
    "\n",
    "def find_regions(map: list[list]):\n",
    "    regions = []\n",
    "    for y in range(len(map)):\n",
    "        for x in range(len(map[0])):\n",
    "            label = map[y][x]\n",
    "            node = (x, y, label)\n",
    "            already_in_region = False\n",
    "            for region in regions:\n",
    "                if node in region:\n",
    "                    already_in_region = True\n",
    "                    break\n",
    "            if not already_in_region:\n",
    "                new_region = flood_fill(map, x, y, label)\n",
    "                regions.append(new_region)\n",
    "\n",
    "    return regions\n",
    "\n",
    "\n",
    "def is_border(map, x, y, label):\n",
    "    return x < 0 or x >= len(map[0]) or y < 0 or y >= len(map) or map[y][x] != label\n",
    "\n",
    "\n",
    "def get_border_cnt(map, region):\n",
    "    border = 0\n",
    "    dirs = [(-1, 0), # left\n",
    "            (0, -1), # up\n",
    "            (1, 0), # right\n",
    "            (0, 1), # down\n",
    "            ] \n",
    "    for plot in region:\n",
    "        x, y, label = plot\n",
    "        for dir in dirs:\n",
    "            next_x = x + dir[0]\n",
    "            next_y = y + dir[1]\n",
    "            next_pos = (next_x, next_y)\n",
    "            check_border = is_border(map, *next_pos, label)\n",
    "            border += 1 if check_border else 0\n",
    "\n",
    "    return border\n",
    "\n",
    "\n",
    "def find_perimeters(map: list[list], regions: list[list]) -> list[int]:\n",
    "    perimeters = []\n",
    "    for region in regions:\n",
    "        perimeters.append(get_border_cnt(map, region))\n",
    "    return perimeters\n",
    "\n",
    "\n",
    "def get_costs(regions, perimeter_cnts):\n",
    "    costs = 0\n",
    "    for i, region in enumerate(regions):\n",
    "        costs += len(region) * perimeter_cnts[i]\n",
    "    return costs\n",
    "\n",
    "regions = find_regions(map)\n",
    "\n",
    "# display(map)\n",
    "# display(regions)\n",
    "\n",
    "perimeter_cnts = find_perimeters(map, regions)\n",
    "# display(perimeter_cnts)\n",
    "\n",
    "costs = get_costs(regions, perimeter_cnts)\n",
    "display(costs)"
   ]
  },
  {
   "cell_type": "markdown",
   "metadata": {},
   "source": [
    "# Part 2"
   ]
  },
  {
   "cell_type": "code",
   "execution_count": null,
   "metadata": {},
   "outputs": [
    {
     "data": {
      "text/plain": [
       "[['A', 'A', 'A', 'A'],\n",
       " ['B', 'B', 'C', 'D'],\n",
       " ['B', 'B', 'C', 'C'],\n",
       " ['E', 'E', 'E', 'C']]"
      ]
     },
     "metadata": {},
     "output_type": "display_data"
    },
    {
     "data": {
      "text/plain": [
       "12"
      ]
     },
     "execution_count": 101,
     "metadata": {},
     "output_type": "execute_result"
    }
   ],
   "source": [
    "puzzle_input = load_input(\"example2.txt\")\n",
    "# puzzle_input = load_input(\"input.txt\")\n",
    "map = [[y for y in x] for x in puzzle_input]\n",
    "\n",
    "\n",
    "def cnt_corners(map, x, y, label):\n",
    "    corner_matrix = [\n",
    "        [(), (), ()]\n",
    "    ]\n",
    "    cnt = 0\n",
    "    for matrix in corner_matrix:\n",
    "        cnt_hits = 0\n",
    "        for m in matrix:\n",
    "            next_x = x + m[0]\n",
    "            next_y = y + m[1]\n",
    "            # check if pos is in range\n",
    "            if next_x < 0 or next_x >= len(map[0]):\n",
    "                cnt_hits += 1\n",
    "                continue\n",
    "            if next_y < 0 or next_y >= len(map):\n",
    "                cnt_hits += 1\n",
    "                continue\n",
    "            next_label = map[next_y][next_x]\n",
    "            if next_label != label:\n",
    "                cnt_hits += 1\n",
    "        if cnt_hits == 3 or cnt_hits == 1:\n",
    "            cnt += 1\n",
    "    return cnt\n",
    "\n",
    "\n",
    "def cnt_corners_in_region(map, region):\n",
    "    corners = 0\n",
    "    for plot in region:\n",
    "        x, y, label = plot\n",
    "        corners += cnt_corners(map, x, y, label)\n",
    "    return corners\n",
    "\n",
    "\n",
    "display(map)\n",
    "\n",
    "regions = find_regions(map)\n",
    "cnt_corners_in_region(map, regions[2])"
   ]
  },
  {
   "cell_type": "code",
   "execution_count": null,
   "metadata": {},
   "outputs": [],
   "source": []
  }
 ],
 "metadata": {
  "kernelspec": {
   "display_name": "env",
   "language": "python",
   "name": "python3"
  },
  "language_info": {
   "codemirror_mode": {
    "name": "ipython",
    "version": 3
   },
   "file_extension": ".py",
   "mimetype": "text/x-python",
   "name": "python",
   "nbconvert_exporter": "python",
   "pygments_lexer": "ipython3",
   "version": "3.12.5"
  }
 },
 "nbformat": 4,
 "nbformat_minor": 2
}
