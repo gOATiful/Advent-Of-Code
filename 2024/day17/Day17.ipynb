{
 "cells": [
  {
   "cell_type": "markdown",
   "id": "23e03df1-175f-422b-bdcf-921015cac54c",
   "metadata": {},
   "source": [
    "## Day 17\n",
    "\n",
    "https://adventofcode.com/2024/day/17"
   ]
  },
  {
   "cell_type": "code",
   "execution_count": 16,
   "id": "0003de48-f315-42f5-9517-31ace9709de5",
   "metadata": {},
   "outputs": [],
   "source": [
    "import re\n",
    "\n",
    "def read_input_17(filename):\n",
    "    contents = \"\"\"Register A: 30553366\n",
    "Register B: 0\n",
    "Register C: 0\n",
    "\n",
    "Program: 2,4,1,1,7,5,4,7,1,4,0,3,5,5,3,0\n",
    "\"\"\"\n",
    "    inp = contents.split(\"\\n\\n\")\n",
    "    regs = [ int(re.findall(r\"\\d+\",i)[0]) for i in inp[0].split(\"\\n\") ]\n",
    "    prog = [ int(i) for i in re.findall(r\"\\d+\",inp[1]) ]\n",
    "    return regs, prog"
   ]
  },
  {
   "cell_type": "code",
   "execution_count": 17,
   "id": "575c9108-c689-4174-9e95-cf378f356f3b",
   "metadata": {},
   "outputs": [],
   "source": [
    "def opcode(reg, prog, verbose=False, part=1):\n",
    "    i = 0\n",
    "    output = []\n",
    "\n",
    "    while True:    \n",
    "        op = prog[i]\n",
    "        li = prog[i+1]\n",
    "        \n",
    "        # combo from literal\n",
    "        co = li \n",
    "        if co>3 and co<7:\n",
    "            co=reg[co-4]        \n",
    "        \n",
    "        if verbose:\n",
    "            print(f\"{i} | {op} : {co} | \",end=\"\")\n",
    "        \n",
    "        if op==0: # adv\n",
    "            reg[0] = reg[0] // 2**co  \n",
    "        elif op==1: # bxl\n",
    "            reg[1] = reg[1] ^ li \n",
    "        elif op==2: # bst\n",
    "            reg[1] = co % 8\n",
    "        elif op==3: # jnz\n",
    "            if reg[0]!=0: \n",
    "                i = li - 2\n",
    "        elif op==4: # bxc\n",
    "            reg[1] = reg[1] ^ reg[2]\n",
    "        elif op==5: # out\n",
    "            output += [ co % 8 ]\n",
    "            #if part==2 and output != prog[:len(output)]:\n",
    "            #    return None, None\n",
    "        elif op==6: # bdv\n",
    "            reg[1] = reg[0] // 2**co  \n",
    "        elif op==7: # cdv\n",
    "            reg[2] = reg[0] // 2**co  \n",
    "\n",
    "        if verbose:\n",
    "            print(reg)\n",
    "\n",
    "        i+=2\n",
    "        if i>=len(prog):\n",
    "            break\n",
    "    return output,reg"
   ]
  },
  {
   "cell_type": "code",
   "execution_count": 18,
   "id": "0375da52-c451-4047-91e7-97f4f5351929",
   "metadata": {},
   "outputs": [],
   "source": [
    "def part1(filename):\n",
    "    reg, prog = read_input_17(filename)\n",
    "    output, _ = opcode(reg, prog)\n",
    "    return \"\".join([ str(o)+',' for o in output ])[:-1]"
   ]
  },
  {
   "cell_type": "code",
   "execution_count": 19,
   "id": "16501496-da04-4a93-bf1e-7807c2cc35c0",
   "metadata": {},
   "outputs": [
    {
     "name": "stdout",
     "output_type": "stream",
     "text": [
      "Part 1: 1,3,7,4,6,4,2,3,5\n"
     ]
    }
   ],
   "source": [
    "print(\"Part 1:\",part1(\"AOC2024inputs/input17.txt\"))"
   ]
  },
  {
   "cell_type": "markdown",
   "id": "dc61d813-aefd-4a1c-a66b-68b2e7ff3289",
   "metadata": {},
   "source": [
    "### Part 2"
   ]
  },
  {
   "cell_type": "code",
   "execution_count": 14,
   "id": "05413726-566f-4233-9909-ae8cdbc92aac",
   "metadata": {},
   "outputs": [],
   "source": [
    "def part2_bruteforce(filename):\n",
    "    reg, prog = read_input_17(filename)\n",
    "    i = 1\n",
    "    while True:\n",
    "        reg[0] = i\n",
    "        output, reg = opcode(reg, prog)\n",
    "        if output==prog:\n",
    "            return i      \n",
    "        i+=1"
   ]
  },
  {
   "cell_type": "code",
   "execution_count": 15,
   "id": "3091cd53-6554-4a99-9e1b-4bf37768fe28",
   "metadata": {},
   "outputs": [
    {
     "ename": "KeyboardInterrupt",
     "evalue": "",
     "output_type": "error",
     "traceback": [
      "\u001b[0;31m---------------------------------------------------------------------------\u001b[0m",
      "\u001b[0;31mKeyboardInterrupt\u001b[0m                         Traceback (most recent call last)",
      "Cell \u001b[0;32mIn[15], line 1\u001b[0m\n\u001b[0;32m----> 1\u001b[0m \u001b[38;5;28mprint\u001b[39m(\u001b[38;5;124m\"\u001b[39m\u001b[38;5;124mTest 2:\u001b[39m\u001b[38;5;124m\"\u001b[39m,\u001b[43mpart2_bruteforce\u001b[49m\u001b[43m(\u001b[49m\u001b[38;5;124;43m\"\u001b[39;49m\u001b[38;5;124;43mexamples/example17-2.txt\u001b[39;49m\u001b[38;5;124;43m\"\u001b[39;49m\u001b[43m)\u001b[49m)\n",
      "Cell \u001b[0;32mIn[14], line 6\u001b[0m, in \u001b[0;36mpart2_bruteforce\u001b[0;34m(filename)\u001b[0m\n\u001b[1;32m      4\u001b[0m \u001b[38;5;28;01mwhile\u001b[39;00m \u001b[38;5;28;01mTrue\u001b[39;00m:\n\u001b[1;32m      5\u001b[0m     reg[\u001b[38;5;241m0\u001b[39m] \u001b[38;5;241m=\u001b[39m i\n\u001b[0;32m----> 6\u001b[0m     output, reg \u001b[38;5;241m=\u001b[39m \u001b[43mopcode\u001b[49m\u001b[43m(\u001b[49m\u001b[43mreg\u001b[49m\u001b[43m,\u001b[49m\u001b[43m \u001b[49m\u001b[43mprog\u001b[49m\u001b[43m)\u001b[49m\n\u001b[1;32m      7\u001b[0m     \u001b[38;5;28;01mif\u001b[39;00m output\u001b[38;5;241m==\u001b[39mprog:\n\u001b[1;32m      8\u001b[0m         \u001b[38;5;28;01mreturn\u001b[39;00m i      \n",
      "Cell \u001b[0;32mIn[11], line 5\u001b[0m, in \u001b[0;36mopcode\u001b[0;34m(reg, prog, verbose, part)\u001b[0m\n\u001b[1;32m      2\u001b[0m i \u001b[38;5;241m=\u001b[39m \u001b[38;5;241m0\u001b[39m\n\u001b[1;32m      3\u001b[0m output \u001b[38;5;241m=\u001b[39m []\n\u001b[0;32m----> 5\u001b[0m \u001b[38;5;28;01mwhile\u001b[39;00m \u001b[38;5;28;01mTrue\u001b[39;00m:    \n\u001b[1;32m      6\u001b[0m     op \u001b[38;5;241m=\u001b[39m prog[i]\n\u001b[1;32m      7\u001b[0m     li \u001b[38;5;241m=\u001b[39m prog[i\u001b[38;5;241m+\u001b[39m\u001b[38;5;241m1\u001b[39m]\n",
      "\u001b[0;31mKeyboardInterrupt\u001b[0m: "
     ]
    }
   ],
   "source": [
    "print(\"Test 2:\",part2_bruteforce(\"examples/example17-2.txt\"))"
   ]
  },
  {
   "cell_type": "markdown",
   "id": "8fe4e959-5081-4b4a-a04e-1d36276386d8",
   "metadata": {},
   "source": [
    "### Iterative / recursive solution\n",
    "\n",
    "The program works in base 8, and I notice that I need a input A value of the between $8^n-1$ and $8^{(n-1)}$ to produce n digits as output. Each digit is produced (almost) independently, and the least significant 3 bits of the input A value controls the first output digit. I can try to recursively build the initial value of A by searching which value between 0 and 7 (least significant 3 bits) generates the needed value, then accumulate it for the next output value by increasing by a factor 8 (as the value was actually represented in base 8)."
   ]
  },
  {
   "cell_type": "code",
   "execution_count": 20,
   "id": "8e9f746b-2c21-43b0-932b-dd0a9d8399c4",
   "metadata": {},
   "outputs": [
    {
     "ename": "NameError",
     "evalue": "name 'reg' is not defined",
     "output_type": "error",
     "traceback": [
      "\u001b[0;31m---------------------------------------------------------------------------\u001b[0m",
      "\u001b[0;31mNameError\u001b[0m                                 Traceback (most recent call last)",
      "Cell \u001b[0;32mIn[20], line 5\u001b[0m\n\u001b[1;32m      2\u001b[0m reg_init, prog \u001b[38;5;241m=\u001b[39m read_input_17(filename)\n\u001b[1;32m      4\u001b[0m \u001b[38;5;66;03m#reg[0] = 8**len(prog)-1\u001b[39;00m\n\u001b[0;32m----> 5\u001b[0m \u001b[43mreg\u001b[49m[\u001b[38;5;241m0\u001b[39m] \u001b[38;5;241m=\u001b[39m \u001b[38;5;241m8\u001b[39m\u001b[38;5;241m*\u001b[39m\u001b[38;5;241m*\u001b[39m(\u001b[38;5;28mlen\u001b[39m(prog)\u001b[38;5;241m-\u001b[39m\u001b[38;5;241m1\u001b[39m)\n\u001b[1;32m      7\u001b[0m output, reg \u001b[38;5;241m=\u001b[39m opcode(reg,prog)\n\u001b[1;32m      8\u001b[0m \u001b[38;5;28mprint\u001b[39m(output)\n",
      "\u001b[0;31mNameError\u001b[0m: name 'reg' is not defined"
     ]
    }
   ],
   "source": [
    "filename = \"AOC2024inputs/input17.txt\"\n",
    "reg_init, prog = read_input_17(filename)\n",
    "\n",
    "#reg[0] = 8**len(prog)-1\n",
    "reg[0] = 8**(len(prog)-1)\n",
    "\n",
    "output, reg = opcode(reg,prog)\n",
    "print(output)\n",
    "print(prog)"
   ]
  },
  {
   "cell_type": "code",
   "execution_count": 1031,
   "id": "0e29c883-6374-4599-b23b-112dd0dde021",
   "metadata": {},
   "outputs": [
    {
     "name": "stdout",
     "output_type": "stream",
     "text": [
      "368 [5, 3, 0]\n",
      "369 [5, 3, 0]\n",
      "370 [1, 3, 0]\n",
      "371 [2, 3, 0]\n",
      "372 [2, 3, 0]\n",
      "373 [7, 3, 0]\n",
      "374 [1, 3, 0]\n",
      "375 [7, 3, 0]\n"
     ]
    }
   ],
   "source": [
    "#a = 0\n",
    "#a = 5\n",
    "a = 46\n",
    "\n",
    "b = 0\n",
    "c = 0\n",
    "\n",
    "for i in range(8):\n",
    "    aa = a * 8 + i\n",
    "    reg_i = [ aa, b, c ]\n",
    "    output, reg = opcode(reg_i,prog)\n",
    "    print(aa,output)"
   ]
  },
  {
   "cell_type": "code",
   "execution_count": 21,
   "id": "44539dcb-c958-4b8d-b680-466110d2a6f2",
   "metadata": {},
   "outputs": [],
   "source": [
    "def findA(prog,a=0,b=0,c=0,ip=-1):\n",
    "    if abs(ip) > len(prog): \n",
    "      return a\n",
    "    for i in range(8):\n",
    "        aa = a * 8 + i\n",
    "        reg = [ aa , b, c ]\n",
    "        output, reg = opcode(reg,prog)\n",
    "        if output[0]==prog[ip]:\n",
    "            aa = findA(prog, aa, reg[1], reg[2], ip-1)\n",
    "            if aa:\n",
    "                return aa\n",
    "    return None\n",
    "\n",
    "def part2(filename):\n",
    "    _, prog = read_input_17(filename)\n",
    "    return findA(prog)"
   ]
  },
  {
   "cell_type": "code",
   "execution_count": 22,
   "id": "cbb37895-575d-4023-9a93-8e9c7ffccdac",
   "metadata": {},
   "outputs": [
    {
     "name": "stdout",
     "output_type": "stream",
     "text": [
      "Part 2: 202367025818154\n"
     ]
    }
   ],
   "source": [
    "print(\"Part 2:\",part2(\"AOC2024inputs/input17.txt\"))"
   ]
  },
  {
   "cell_type": "markdown",
   "id": "e4351d26-8a50-4199-a78c-30fbf674df09",
   "metadata": {},
   "source": [
    "### Program reverse engineering\n",
    "\n",
    "An alternative idea would be to reverse engineer the program, and to build a function acting like the inverse of its beaviour, then use it to search for the smallest solution (since there would be many, since some steps are not exclusive, e.g. % or // operations)"
   ]
  },
  {
   "cell_type": "code",
   "execution_count": 974,
   "id": "244bc281-c38e-44c9-bd89-10ac4eac22a5",
   "metadata": {},
   "outputs": [
    {
     "name": "stdout",
     "output_type": "stream",
     "text": [
      "   | OP LIT COM | name | operation\n",
      "-----------------------------------------------\n",
      " 0 |  2   4   A | bst  | B = COM % 8\n",
      " 2 |  1   1   1 | bxl  | B = B ^ LIT\n",
      " 4 |  7   5   B | cdv  | C = A//2**COM\n",
      " 6 |  4   4   A | bxc  | B = B^C\n",
      " 8 |  1   4   A | bxl  | B = B ^ LIT\n",
      "10 |  0   3   3 | adv  | A = A // 2**COM\n",
      "12 |  5   5   B | out  | print( COM % 8 )\n",
      "14 |  3   0   0 | jnz  | if A!=0: goto LIT\n"
     ]
    }
   ],
   "source": [
    "opnames = {\n",
    "    0: 'adv  | A = A // 2**COM',\n",
    "    1: 'bxl  | B = B ^ LIT',\n",
    "    2: 'bst  | B = COM % 8',\n",
    "    3: 'jnz  | if A!=0: goto LIT',\n",
    "    4: 'bxc  | B = B^C',\n",
    "    5: 'out  | print( COM % 8 )',\n",
    "    6: 'bdv  | B = A//2**COM',\n",
    "    7: 'cdv  | C = A//2**COM'\n",
    "}\n",
    "\n",
    "filename = \"AOC2024inputs/input17.txt\"\n",
    "reg_init, prog = read_input_17(filename)\n",
    "\n",
    "print(f\"   | OP LIT COM | name | operation\")\n",
    "print(\"-----------------------------------------------\")\n",
    "for i in range(0,len(prog),2):\n",
    "    op = prog[i]\n",
    "    li = prog[i+1]\n",
    "    co = li \n",
    "    if co==4:\n",
    "        co = 'A'\n",
    "    if co==5:\n",
    "        co = 'B'\n",
    "    if co==6:\n",
    "        co = 'C' \n",
    "    print(f\"{i:2d} | {op:2d}  {li:2d}   {co} | {opnames[op]}\")"
   ]
  },
  {
   "cell_type": "code",
   "execution_count": 975,
   "id": "288331a1-0798-4c7f-9a18-e5d46ed8e35a",
   "metadata": {},
   "outputs": [
    {
     "data": {
      "text/plain": [
       "[7, 4, 2, 0, 5, 0, 5, 3, 7]"
      ]
     },
     "execution_count": 975,
     "metadata": {},
     "output_type": "execute_result"
    }
   ],
   "source": [
    "# 7,4,2,0,5,0,5,3,7\n",
    "\n",
    "def program(A=46337277, B=0, C=0):\n",
    "    output = []\n",
    "    while True:\n",
    "        B = A%8 \n",
    "        B = B^1  \n",
    "        C = A//2**B\n",
    "        B = B^C\n",
    "        B = B^4\n",
    "        A = A//8 \n",
    "        output.append(B%8)\n",
    "        if A==0:\n",
    "            break\n",
    "    return output\n",
    "\n",
    "program()"
   ]
  },
  {
   "cell_type": "code",
   "execution_count": null,
   "id": "9825e00e-1abf-418b-9e59-ce072da63f64",
   "metadata": {},
   "outputs": [],
   "source": []
  },
  {
   "cell_type": "code",
   "execution_count": null,
   "id": "156680d3",
   "metadata": {},
   "outputs": [],
   "source": []
  }
 ],
 "metadata": {
  "kernelspec": {
   "display_name": "env",
   "language": "python",
   "name": "python3"
  },
  "language_info": {
   "codemirror_mode": {
    "name": "ipython",
    "version": 3
   },
   "file_extension": ".py",
   "mimetype": "text/x-python",
   "name": "python",
   "nbconvert_exporter": "python",
   "pygments_lexer": "ipython3",
   "version": "3.12.5"
  }
 },
 "nbformat": 4,
 "nbformat_minor": 5
}
