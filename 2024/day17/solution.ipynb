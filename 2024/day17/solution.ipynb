{
 "cells": [
  {
   "cell_type": "code",
   "execution_count": 10,
   "metadata": {},
   "outputs": [],
   "source": [
    "def load_input(path: str) -> list[str]:\n",
    "    with open(path) as infile:\n",
    "        return infile.read().splitlines()\n"
   ]
  },
  {
   "cell_type": "markdown",
   "metadata": {},
   "source": [
    "# Part 1"
   ]
  },
  {
   "cell_type": "code",
   "execution_count": null,
   "metadata": {},
   "outputs": [],
   "source": []
  },
  {
   "cell_type": "code",
   "execution_count": 11,
   "metadata": {},
   "outputs": [
    {
     "name": "stdout",
     "output_type": "stream",
     "text": [
      "[1, 3, 7, 4, 6, 4, 2, 3, 5]\n"
     ]
    },
    {
     "data": {
      "text/plain": [
       "'1,3,7,4,6,4,2,3,5'"
      ]
     },
     "execution_count": 11,
     "metadata": {},
     "output_type": "execute_result"
    }
   ],
   "source": [
    "# puzzle_input = load_input(\"example.txt\")\n",
    "puzzle_input = load_input(\"input.txt\")\n",
    "\n",
    "\n",
    "def parse_input(input: list[str]):\n",
    "    registers = []\n",
    "    search_registers = True\n",
    "    program = \"\"\n",
    "    for line in input:\n",
    "        if line == \"\":\n",
    "            search_registers = False\n",
    "            continue\n",
    "        if search_registers:\n",
    "            line_split = line.split(\":\")\n",
    "            val = line_split[1]\n",
    "            registers.append(int(val))\n",
    "        else:\n",
    "            program_split = line.split(\" \")\n",
    "            program = program_split[1].split(\",\")\n",
    "            program = [int(x) for x in program]\n",
    "\n",
    "    return registers, program\n",
    "\n",
    "registers, program = parse_input(puzzle_input)\n",
    "\n",
    "def compute(reg, prog):\n",
    "    i = 0\n",
    "    output = []\n",
    "\n",
    "    while True:\n",
    "        op = prog[i]\n",
    "        li = prog[i+1]\n",
    "        # combo from literal\n",
    "        co = li\n",
    "        if co > 3 and co < 7:\n",
    "            co = reg[co-4]\n",
    "        if op == 0:  # adv\n",
    "            reg[0] = reg[0] // 2**co\n",
    "        elif op == 1:  # bxl\n",
    "            reg[1] = reg[1] ^ li\n",
    "        elif op == 2:  # bst\n",
    "            reg[1] = co % 8\n",
    "        elif op == 3:  # jnz\n",
    "            if reg[0] != 0:\n",
    "                i = li - 2\n",
    "        elif op == 4:  # bxc\n",
    "            reg[1] = reg[1] ^ reg[2]\n",
    "        elif op == 5:  # out\n",
    "            output += [co % 8]\n",
    "        elif op == 6:  # bdv\n",
    "            reg[1] = reg[0] // 2**co\n",
    "        elif op == 7:  # cdv\n",
    "            reg[2] = reg[0] // 2**co\n",
    "\n",
    "        i += 2\n",
    "        if i >= len(prog):\n",
    "            break\n",
    "    return output, reg\n",
    "\n",
    "\n",
    "output, output_regs = compute(registers, program)\n",
    "print(output)\n",
    "','.join(str(v) for v in output)"
   ]
  },
  {
   "cell_type": "markdown",
   "metadata": {},
   "source": []
  },
  {
   "cell_type": "markdown",
   "metadata": {},
   "source": [
    "# Part 2"
   ]
  },
  {
   "cell_type": "code",
   "execution_count": 12,
   "metadata": {},
   "outputs": [
    {
     "ename": "ValueError",
     "evalue": "min() iterable argument is empty",
     "output_type": "error",
     "traceback": [
      "\u001b[0;31m---------------------------------------------------------------------------\u001b[0m",
      "\u001b[0;31mValueError\u001b[0m                                Traceback (most recent call last)",
      "Cell \u001b[0;32mIn[12], line 25\u001b[0m\n\u001b[1;32m     20\u001b[0m     \u001b[38;5;66;03m# Return the smallest valid 'a' that satisfies the condition\u001b[39;00m\n\u001b[1;32m     21\u001b[0m     \u001b[38;5;28;01mreturn\u001b[39;00m \u001b[38;5;28mmin\u001b[39m(numbers)\n\u001b[0;32m---> 25\u001b[0m \u001b[43mfind_register_a_for_self_output\u001b[49m\u001b[43m(\u001b[49m\u001b[43mregisters\u001b[49m\u001b[43m,\u001b[49m\u001b[43m \u001b[49m\u001b[43mprogram\u001b[49m\u001b[43m)\u001b[49m\n",
      "Cell \u001b[0;32mIn[12], line 21\u001b[0m, in \u001b[0;36mfind_register_a_for_self_output\u001b[0;34m(registers, program)\u001b[0m\n\u001b[1;32m     19\u001b[0m                 todo \u001b[38;5;241m+\u001b[39m\u001b[38;5;241m=\u001b[39m [(p \u001b[38;5;241m-\u001b[39m \u001b[38;5;241m1\u001b[39m, a)]\n\u001b[1;32m     20\u001b[0m \u001b[38;5;66;03m# Return the smallest valid 'a' that satisfies the condition\u001b[39;00m\n\u001b[0;32m---> 21\u001b[0m \u001b[38;5;28;01mreturn\u001b[39;00m \u001b[38;5;28;43mmin\u001b[39;49m\u001b[43m(\u001b[49m\u001b[43mnumbers\u001b[49m\u001b[43m)\u001b[49m\n",
      "\u001b[0;31mValueError\u001b[0m: min() iterable argument is empty"
     ]
    }
   ],
   "source": [
    "# puzzle_input = load_input(\"simple_example.txt\")\n",
    "puzzle_input = load_input(\"input.txt\")\n",
    "\n",
    "registers, program = parse_input(puzzle_input)\n",
    "\n",
    "\n",
    "def find_register_a_for_self_output(registers, program):\n",
    "    numbers = []\n",
    "    todo = [(len(program) - 1, 0)]  # Start from the last position of the program with value '0'\n",
    "    for p, v in todo:\n",
    "        # Test all possible values of 'a' within the range [8*v, 8*(v+1) - 1] --> 2^3 = 8 (cause 3 bits computer)\n",
    "        for a in range(8 * v, 8 * (v + 1)):\n",
    "            # Check if running the program with the current 'a' produces the remaining part of the program\n",
    "            if compute([a, registers[1], registers[2]], program) == program[p:]:\n",
    "                if p == 0:  # If we're at the start of the program, we've found a valid 'a'\n",
    "                    numbers.append(a)\n",
    "                else:\n",
    "                    # Otherwise, move one step back and continue searching for valid 'a' values\n",
    "                    todo += [(p - 1, a)]\n",
    "    # Return the smallest valid 'a' that satisfies the condition\n",
    "    return min(numbers)\n",
    "\n",
    "\n",
    "\n",
    "find_register_a_for_self_output(registers, program)"
   ]
  },
  {
   "cell_type": "code",
   "execution_count": null,
   "metadata": {},
   "outputs": [],
   "source": []
  }
 ],
 "metadata": {
  "kernelspec": {
   "display_name": "env",
   "language": "python",
   "name": "python3"
  },
  "language_info": {
   "codemirror_mode": {
    "name": "ipython",
    "version": 3
   },
   "file_extension": ".py",
   "mimetype": "text/x-python",
   "name": "python",
   "nbconvert_exporter": "python",
   "pygments_lexer": "ipython3",
   "version": "3.12.5"
  }
 },
 "nbformat": 4,
 "nbformat_minor": 2
}
