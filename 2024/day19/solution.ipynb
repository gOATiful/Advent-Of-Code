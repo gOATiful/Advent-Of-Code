{
 "cells": [
  {
   "cell_type": "code",
   "execution_count": 31,
   "metadata": {},
   "outputs": [],
   "source": [
    "def load_input(path: str) -> list[str]:\n",
    "    with open(path) as infile:\n",
    "        return infile.read().splitlines()\n"
   ]
  },
  {
   "cell_type": "markdown",
   "metadata": {},
   "source": [
    "# Part 1"
   ]
  },
  {
   "cell_type": "code",
   "execution_count": 32,
   "metadata": {},
   "outputs": [
    {
     "name": "stderr",
     "output_type": "stream",
     "text": [
      "100%|██████████| 400/400 [00:01<00:00, 239.95it/s]\n"
     ]
    },
    {
     "data": {
      "text/plain": [
       "267"
      ]
     },
     "execution_count": 32,
     "metadata": {},
     "output_type": "execute_result"
    }
   ],
   "source": [
    "from tqdm import tqdm\n",
    "from functools import cache\n",
    "# puzzle_input = load_input(\"example.txt\")\n",
    "puzzle_input = load_input(\"input.txt\")\n",
    "\n",
    "\n",
    "def parse_input(input):\n",
    "    parse_towels = True\n",
    "    towels = []\n",
    "    patterns = []\n",
    "    for line in input:\n",
    "        if line == \"\":\n",
    "            continue\n",
    "        if parse_towels:\n",
    "            towels = line.split(\", \")\n",
    "            parse_towels = False\n",
    "        else:\n",
    "            patterns.append(line)\n",
    "\n",
    "    return towels, patterns\n",
    "\n",
    "\n",
    "towels, patterns = parse_input(puzzle_input)\n",
    "\n",
    "@cache\n",
    "def is_valid(pattern):\n",
    "    if len(pattern) == 0:\n",
    "        return True\n",
    "    is_subtree_valid = False\n",
    "    for t in towels:\n",
    "        if t == pattern[:len(t)]:\n",
    "            # pattern found at start continue with next\n",
    "            is_subtree_valid |= is_valid( pattern[len(t):])\n",
    "    return is_subtree_valid\n",
    "\n",
    "results = list(map(is_valid, tqdm(patterns)))\n",
    "sum(results)"
   ]
  },
  {
   "cell_type": "markdown",
   "metadata": {},
   "source": [
    "# Part 2"
   ]
  },
  {
   "cell_type": "code",
   "execution_count": 33,
   "metadata": {},
   "outputs": [
    {
     "name": "stderr",
     "output_type": "stream",
     "text": [
      "100%|██████████| 400/400 [00:01<00:00, 247.98it/s]\n"
     ]
    },
    {
     "data": {
      "text/plain": [
       "796449099271652"
      ]
     },
     "execution_count": 33,
     "metadata": {},
     "output_type": "execute_result"
    }
   ],
   "source": [
    "# puzzle_input = load_input(\"example.txt\")\n",
    "puzzle_input = load_input(\"input.txt\")\n",
    "\n",
    "towels, patterns = parse_input(puzzle_input)\n",
    "\n",
    "\n",
    "@cache\n",
    "def cnt_valid_solutions(pattern):\n",
    "    if len(pattern) == 0:\n",
    "        return 1\n",
    "    valid_subtrees = 0\n",
    "    for t in towels:\n",
    "        if t == pattern[:len(t)]:\n",
    "            # pattern found at start continue with next\n",
    "            valid_subtrees += cnt_valid_solutions( pattern[len(t):])\n",
    "    return valid_subtrees\n",
    "\n",
    "results = list(map(cnt_valid_solutions, tqdm(patterns)))\n",
    "sum(results)"
   ]
  }
 ],
 "metadata": {
  "kernelspec": {
   "display_name": "env",
   "language": "python",
   "name": "python3"
  },
  "language_info": {
   "codemirror_mode": {
    "name": "ipython",
    "version": 3
   },
   "file_extension": ".py",
   "mimetype": "text/x-python",
   "name": "python",
   "nbconvert_exporter": "python",
   "pygments_lexer": "ipython3",
   "version": "3.11.9"
  }
 },
 "nbformat": 4,
 "nbformat_minor": 2
}
