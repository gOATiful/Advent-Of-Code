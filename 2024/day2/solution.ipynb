{
 "cells": [
  {
   "cell_type": "code",
   "execution_count": 2,
   "metadata": {},
   "outputs": [],
   "source": [
    "def __load(path: str) -> list[str]:\n",
    "    with open(path) as infile:\n",
    "        return infile.read().splitlines()\n",
    "\n",
    "\n",
    "def puzzle_example() -> list[str]:\n",
    "    return __load(\"example.txt\")\n",
    "\n",
    "\n",
    "def puzzle_input1() -> list[str]:\n",
    "    return __load(\"input.txt\")\n",
    "\n",
    "def puzzle_input2() -> list[str]:\n",
    "    return __load(\"input2.txt\")\n"
   ]
  },
  {
   "cell_type": "markdown",
   "metadata": {},
   "source": [
    "# Part 1"
   ]
  },
  {
   "cell_type": "code",
   "execution_count": 16,
   "metadata": {},
   "outputs": [
    {
     "name": "stdout",
     "output_type": "stream",
     "text": [
      "230\n"
     ]
    }
   ],
   "source": [
    "# puzzle_input = puzzle_example()\n",
    "puzzle_input = puzzle_input1()\n",
    "\n",
    "reports = [list(map(int, x.split(\" \"))) for x in puzzle_input]\n",
    "reports\n",
    "\n",
    "def is_report_safe(report: list[int]) -> bool:\n",
    "  dir = 0\n",
    "  for i in range(1, len(report)):\n",
    "    new_dir = report[i-1] - report[i]\n",
    "    if dir == 0:\n",
    "      dir = new_dir\n",
    "    if dir < 0 and new_dir > 0:\n",
    "      return False\n",
    "    if dir > 0 and new_dir < 0:\n",
    "      return False\n",
    "    diff = abs(new_dir)\n",
    "    if diff < 1 or diff > 3:\n",
    "      return False\n",
    "  return True\n",
    "\n",
    "report_check = sum(list(map(is_report_safe, reports)))\n",
    "\n",
    "print(report_check)\n",
    "  \n",
    "\n"
   ]
  },
  {
   "cell_type": "markdown",
   "metadata": {},
   "source": [
    "# Part 2"
   ]
  },
  {
   "cell_type": "code",
   "execution_count": 23,
   "metadata": {},
   "outputs": [
    {
     "name": "stdout",
     "output_type": "stream",
     "text": [
      "301\n"
     ]
    }
   ],
   "source": [
    "# puzzle_input = puzzle_example()\n",
    "puzzle_input = puzzle_input1()\n",
    "\n",
    "reports = [list(map(int, x.split(\" \"))) for x in puzzle_input]\n",
    "\n",
    "def is_report_safe(report: list[int]) -> bool:\n",
    "  dir = 0\n",
    "  for i in range(1, len(report)):\n",
    "    new_dir = report[i-1] - report[i]\n",
    "    if dir == 0:\n",
    "      dir = new_dir\n",
    "    if dir < 0 and new_dir > 0:\n",
    "      return False\n",
    "    if dir > 0 and new_dir < 0:\n",
    "      return False\n",
    "    diff = abs(new_dir)\n",
    "    if diff < 1 or diff > 3:\n",
    "      return False\n",
    "  return True\n",
    "\n",
    "# create list variations:\n",
    "\n",
    "def tolerate_single_bad_level(report: list[int]):\n",
    "  tolerate_list = []\n",
    "  for i in range(len(report)):\n",
    "    new_report = report.copy()\n",
    "    del new_report[i]\n",
    "    tolerate_list.append(new_report)\n",
    "  return any([is_report_safe(x) for x in tolerate_list])\n",
    "\n",
    "report_check = sum(list(map(tolerate_single_bad_level, reports)))\n",
    "\n",
    "print(report_check)\n",
    "  \n",
    "\n",
    "\n",
    "\n"
   ]
  },
  {
   "cell_type": "code",
   "execution_count": null,
   "metadata": {},
   "outputs": [],
   "source": []
  }
 ],
 "metadata": {
  "kernelspec": {
   "display_name": "env",
   "language": "python",
   "name": "python3"
  },
  "language_info": {
   "codemirror_mode": {
    "name": "ipython",
    "version": 3
   },
   "file_extension": ".py",
   "mimetype": "text/x-python",
   "name": "python",
   "nbconvert_exporter": "python",
   "pygments_lexer": "ipython3",
   "version": "3.11.9"
  }
 },
 "nbformat": 4,
 "nbformat_minor": 2
}
