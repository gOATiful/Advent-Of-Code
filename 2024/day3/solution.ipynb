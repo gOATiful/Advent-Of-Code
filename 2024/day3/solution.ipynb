{
 "cells": [
  {
   "cell_type": "code",
   "execution_count": 1,
   "metadata": {},
   "outputs": [],
   "source": [
    "def __load(path: str) -> list[str]:\n",
    "    with open(path) as infile:\n",
    "        return infile.read().splitlines()\n",
    "\n",
    "\n",
    "def puzzle_example() -> list[str]:\n",
    "    return __load(\"example.txt\")\n",
    "\n",
    "def puzzle_example2() -> list[str]:\n",
    "    return __load(\"example2.txt\")\n",
    "\n",
    "def puzzle_input1() -> list[str]:\n",
    "    return __load(\"input.txt\")\n",
    "\n",
    "def puzzle_input2() -> list[str]:\n",
    "    return __load(\"input2.txt\")\n"
   ]
  },
  {
   "cell_type": "markdown",
   "metadata": {},
   "source": [
    "# Part 1"
   ]
  },
  {
   "cell_type": "code",
   "execution_count": 2,
   "metadata": {},
   "outputs": [
    {
     "data": {
      "text/plain": [
       "163931492"
      ]
     },
     "execution_count": 2,
     "metadata": {},
     "output_type": "execute_result"
    }
   ],
   "source": [
    "import re\n",
    "\n",
    "# puzzle_input = puzzle_example()\n",
    "puzzle_input = puzzle_input1()\n",
    "\n",
    "\n",
    "regex = r\"mul\\((\\d+),(\\d+)\\)\"\n",
    "\n",
    "def add_uncorrupted_muls(line: str):\n",
    "  operants = re.findall(regex, line)\n",
    "  add = 0\n",
    "  for ops in operants:\n",
    "    ops = list(map(int, ops))\n",
    "    add += ops[0] * ops[1]\n",
    "  return add\n",
    "\n",
    "muls_in_lines = list(map(add_uncorrupted_muls, puzzle_input))\n",
    "sum(muls_in_lines)"
   ]
  },
  {
   "cell_type": "markdown",
   "metadata": {},
   "source": [
    "# Part 2"
   ]
  },
  {
   "cell_type": "code",
   "execution_count": 11,
   "metadata": {},
   "outputs": [
    {
     "name": "stdout",
     "output_type": "stream",
     "text": [
      "76911921\n"
     ]
    }
   ],
   "source": [
    "# puzzle_input = puzzle_example2()\n",
    "puzzle_input = \"\".join(puzzle_input1())\n",
    "\n",
    "regex = r\"mul\\((\\d*),(\\d*)\\)|(don't\\(\\))|(do\\(\\))\"\n",
    "\n",
    "\n",
    "def add_uncorrupted_muls_with_switch(line: str):\n",
    "    operants = re.findall(regex, line)\n",
    "    add = 0\n",
    "    switch = 1\n",
    "    for ops in operants:\n",
    "        # filter empty strings\n",
    "        ops = [x for x in ops if x]\n",
    "        if \"don't()\" in ops:\n",
    "            switch = 0\n",
    "        elif \"do()\" in ops:\n",
    "            switch = 1\n",
    "        else:\n",
    "            ops = list(map(int, ops))\n",
    "            add += ops[0] * ops[1] * switch\n",
    "    return add\n",
    "\n",
    "\n",
    "muls_in_lines = add_uncorrupted_muls_with_switch(puzzle_input)\n",
    "print(muls_in_lines)"
   ]
  }
 ],
 "metadata": {
  "kernelspec": {
   "display_name": "env",
   "language": "python",
   "name": "python3"
  },
  "language_info": {
   "codemirror_mode": {
    "name": "ipython",
    "version": 3
   },
   "file_extension": ".py",
   "mimetype": "text/x-python",
   "name": "python",
   "nbconvert_exporter": "python",
   "pygments_lexer": "ipython3",
   "version": "3.11.9"
  }
 },
 "nbformat": 4,
 "nbformat_minor": 2
}
