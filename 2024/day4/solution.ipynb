{
 "cells": [
  {
   "cell_type": "code",
   "execution_count": 9,
   "metadata": {},
   "outputs": [],
   "source": [
    "def load_input(path: str) -> list[str]:\n",
    "    with open(path) as infile:\n",
    "        return infile.read().splitlines()\n"
   ]
  },
  {
   "cell_type": "markdown",
   "metadata": {},
   "source": [
    "# Part 1"
   ]
  },
  {
   "cell_type": "code",
   "execution_count": 23,
   "metadata": {},
   "outputs": [
    {
     "name": "stdout",
     "output_type": "stream",
     "text": [
      "17\n"
     ]
    }
   ],
   "source": [
    "puzzle_input = load_input(\"example.txt\")\n",
    "# puzzle_input = load_input(\"input.txt\")\n",
    "\n",
    "\n",
    "def search_in_dir(input, x, y, x_dir, y_dir):\n",
    "    search_str = \"XMAS\"\n",
    "    match_cnt = 0\n",
    "    x_offset = 0\n",
    "    y_offset = 0\n",
    "    if x + x_dir * len(search_str) >= len(input[0]) or \\\n",
    "            x + x_dir * len(search_str) < 0 or \\\n",
    "            y + y_dir * len(search_str) >= len(input) or \\\n",
    "            y + y_dir * len(search_str) < 0:\n",
    "        return 0\n",
    "\n",
    "    for i in range(len(search_str)):\n",
    "        c = input[y + y_offset][x + x_offset]\n",
    "        if c == search_str[i]:\n",
    "            match_cnt += 1\n",
    "        y_offset += y_dir\n",
    "        x_offset += x_dir\n",
    "\n",
    "    return 1 if match_cnt == len(search_str) else 0\n",
    "\n",
    "\n",
    "dirs = [(1, 0), (0, 1), (1, 1), (-1, 0), (0, -1), (-1, -1), (1, -1), (-1, 1)]\n",
    "\n",
    "cnt = 0\n",
    "for y in range(len(puzzle_input)):\n",
    "    for x in range(len(puzzle_input[0])):\n",
    "        for dir in dirs:\n",
    "            cnt += search_in_dir(puzzle_input, x,\n",
    "                                 y, dir[0], dir[1])\n",
    "print(cnt)"
   ]
  },
  {
   "cell_type": "markdown",
   "metadata": {},
   "source": [
    "# Part 2"
   ]
  },
  {
   "cell_type": "code",
   "execution_count": null,
   "metadata": {},
   "outputs": [],
   "source": [
    "puzzle_input = load_input(\"example.txt\")\n",
    "# puzzle_input = load_input(\"input.txt\")\n",
    "\n"
   ]
  }
 ],
 "metadata": {
  "kernelspec": {
   "display_name": "env",
   "language": "python",
   "name": "python3"
  },
  "language_info": {
   "codemirror_mode": {
    "name": "ipython",
    "version": 3
   },
   "file_extension": ".py",
   "mimetype": "text/x-python",
   "name": "python",
   "nbconvert_exporter": "python",
   "pygments_lexer": "ipython3",
   "version": "3.12.5"
  }
 },
 "nbformat": 4,
 "nbformat_minor": 2
}
