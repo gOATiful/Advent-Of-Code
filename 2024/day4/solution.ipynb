{
 "cells": [
  {
   "cell_type": "code",
   "execution_count": 2,
   "metadata": {},
   "outputs": [],
   "source": [
    "def load_input(path: str) -> list[str]:\n",
    "    with open(path) as infile:\n",
    "        return infile.read().splitlines()\n"
   ]
  },
  {
   "cell_type": "markdown",
   "metadata": {},
   "source": [
    "# Part 1"
   ]
  },
  {
   "cell_type": "code",
   "execution_count": 5,
   "metadata": {},
   "outputs": [
    {
     "data": {
      "text/plain": [
       "2401"
      ]
     },
     "execution_count": 5,
     "metadata": {},
     "output_type": "execute_result"
    }
   ],
   "source": [
    "# puzzle_input = load_input(\"example.txt\")\n",
    "puzzle_input = load_input(\"input.txt\")\n",
    "\n",
    "rows = puzzle_input\n",
    "m = len(rows)\n",
    "n = len(rows[0])\n",
    "\n",
    "def count(r, c):\n",
    "    if rows[r][c] != 'X':\n",
    "        return 0\n",
    "    return sum([\n",
    "        c > 2 and rows[r][c-3:c+1] == 'SAMX',                                               # left\n",
    "        c < n - 3 and rows[r][c:c+4] == 'XMAS',                                             # right\n",
    "        r > 2 and ''.join(rows[r-i][c] for i in range(4)) == 'XMAS',                        # up\n",
    "        r < m - 3 and ''.join(rows[r+i][c] for i in range(4)) == 'XMAS',                    # down\n",
    "        r > 2 and c > 2 and ''.join(rows[r-i][c-i] for i in range(4)) == 'XMAS',            # left-up\n",
    "        r > 2 and c < n - 3 and ''.join(rows[r-i][c+i] for i in range(4)) == 'XMAS',        # right-up\n",
    "        r < m - 3 and c > 2 and ''.join(rows[r+i][c-i] for i in range(4)) == 'XMAS',        # left-down\n",
    "        r < m - 3 and c < n - 3 and ''.join(rows[r+i][c+i] for i in range(4)) == 'XMAS',    # right-down\n",
    "    ])\n",
    "\n",
    "sum(count(r, c) for r in range(m) for c in range(n))"
   ]
  },
  {
   "cell_type": "markdown",
   "metadata": {},
   "source": [
    "# Part 2"
   ]
  },
  {
   "cell_type": "code",
   "execution_count": 7,
   "metadata": {},
   "outputs": [
    {
     "data": {
      "text/plain": [
       "1822"
      ]
     },
     "execution_count": 7,
     "metadata": {},
     "output_type": "execute_result"
    }
   ],
   "source": [
    "# puzzle_input = load_input(\"example.txt\")\n",
    "puzzle_input = load_input(\"input.txt\")\n",
    "\n",
    "\n",
    "rows = puzzle_input\n",
    "m = len(rows)\n",
    "n = len(rows[0])\n",
    "\n",
    "def check(r, c):\n",
    "    if rows[r][c] != 'A':\n",
    "        return False\n",
    "    ul = rows[r-1][c-1]\n",
    "    ur = rows[r-1][c+1]\n",
    "    dl = rows[r+1][c-1]\n",
    "    dr = rows[r+1][c+1]\n",
    "    return sorted([ul, ur, dl, dr]) == ['M', 'M', 'S', 'S'] and ul != dr\n",
    "\n",
    "sum(check(r, c) for r in range(1, m-1) for c in range(1, n-1))"
   ]
  },
  {
   "cell_type": "code",
   "execution_count": null,
   "metadata": {},
   "outputs": [],
   "source": []
  }
 ],
 "metadata": {
  "kernelspec": {
   "display_name": "env",
   "language": "python",
   "name": "python3"
  },
  "language_info": {
   "codemirror_mode": {
    "name": "ipython",
    "version": 3
   },
   "file_extension": ".py",
   "mimetype": "text/x-python",
   "name": "python",
   "nbconvert_exporter": "python",
   "pygments_lexer": "ipython3",
   "version": "3.11.9"
  }
 },
 "nbformat": 4,
 "nbformat_minor": 2
}
