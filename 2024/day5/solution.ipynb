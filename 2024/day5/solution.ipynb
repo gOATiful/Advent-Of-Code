{
 "cells": [
  {
   "cell_type": "code",
   "execution_count": 53,
   "metadata": {},
   "outputs": [],
   "source": [
    "def load_input(path: str) -> list[str]:\n",
    "    with open(path) as infile:\n",
    "        return infile.read().splitlines()\n"
   ]
  },
  {
   "cell_type": "markdown",
   "metadata": {},
   "source": [
    "# Part 1"
   ]
  },
  {
   "cell_type": "code",
   "execution_count": 54,
   "metadata": {},
   "outputs": [
    {
     "name": "stdout",
     "output_type": "stream",
     "text": [
      "5713\n"
     ]
    }
   ],
   "source": [
    "# puzzle_input = load_input(\"example.txt\")\n",
    "puzzle_input = load_input(\"input.txt\")\n",
    "\n",
    "\n",
    "def test_before_rule(updates, must_be_before):\n",
    "    for u in updates:\n",
    "        # if we find one of these AFTER, the rule is violated\n",
    "        if u in must_be_before:\n",
    "            return False\n",
    "    return True\n",
    "\n",
    "\n",
    "def test_update(updates, rules):\n",
    "    violations = []\n",
    "    for i in range(len(updates)):\n",
    "        u = updates[i]\n",
    "        if u not in rules.keys():\n",
    "            continue\n",
    "        if not test_before_rule(updates[i:],rules[u]):\n",
    "            violations.append(u)\n",
    "    return violations\n",
    "\n",
    "\n",
    "\n",
    "def parse_input():\n",
    "    rules = []\n",
    "    before_rules = {}\n",
    "    updates = []\n",
    "    found_empty_line = False\n",
    "    for line in puzzle_input:\n",
    "        if line == \"\":\n",
    "            found_empty_line = True\n",
    "            continue\n",
    "        if not found_empty_line:\n",
    "            rule = line.split(\"|\")\n",
    "            rules.append(rule)\n",
    "            before = rule[0]\n",
    "            after = rule[1]\n",
    "            if after not in before_rules.keys():\n",
    "                before_rules[after] = []\n",
    "            before_rules[after].append(before)        \n",
    "        else:\n",
    "            updates.append(line.split(\",\"))\n",
    "    return updates, rules, before_rules\n",
    "\n",
    "updates, rules, before_rules = parse_input()\n",
    "\n",
    "sum_of_mids = 0\n",
    "for update in updates:\n",
    "    if len(test_update(update, before_rules)) == 0:\n",
    "        sum_of_mids += int(update[int(len(update)/2)])\n",
    "\n",
    "print(sum_of_mids)"
   ]
  },
  {
   "cell_type": "markdown",
   "metadata": {},
   "source": [
    "# Part 2"
   ]
  },
  {
   "cell_type": "code",
   "execution_count": 55,
   "metadata": {},
   "outputs": [
    {
     "name": "stdout",
     "output_type": "stream",
     "text": [
      "135\n"
     ]
    }
   ],
   "source": [
    "import itertools\n",
    "\n",
    "puzzle_input = load_input(\"example.txt\")\n",
    "# puzzle_input = load_input(\"input.txt\")\n",
    "\n",
    "updates, rules, before_rules = parse_input()\n",
    "\n",
    "\n",
    "def reorder_update(update, rules):\n",
    "    all_combos = itertools.permutations(update, len(update))\n",
    "    for new_update in all_combos:\n",
    "        if test_update(new_update, rules):\n",
    "            return new_update\n",
    "    return False\n",
    "\n",
    "sum_of_mids = 0\n",
    "for update in updates:\n",
    "    violations = test_update(update, before_rules)\n",
    "    if len(violations) != 0:\n",
    "        new_update = reorder_update(update, before_rules)\n",
    "        if new_update:\n",
    "            sum_of_mids += int(new_update[int(len(new_update)/2)])\n",
    "\n",
    "print(sum_of_mids)        "
   ]
  },
  {
   "cell_type": "code",
   "execution_count": null,
   "metadata": {},
   "outputs": [],
   "source": []
  }
 ],
 "metadata": {
  "kernelspec": {
   "display_name": "env",
   "language": "python",
   "name": "python3"
  },
  "language_info": {
   "codemirror_mode": {
    "name": "ipython",
    "version": 3
   },
   "file_extension": ".py",
   "mimetype": "text/x-python",
   "name": "python",
   "nbconvert_exporter": "python",
   "pygments_lexer": "ipython3",
   "version": "3.12.5"
  }
 },
 "nbformat": 4,
 "nbformat_minor": 2
}
