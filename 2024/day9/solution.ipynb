{
 "cells": [
  {
   "cell_type": "code",
   "execution_count": 1,
   "metadata": {},
   "outputs": [],
   "source": [
    "def load_input(path: str) -> list[str]:\n",
    "    with open(path) as infile:\n",
    "        return infile.read().splitlines()\n"
   ]
  },
  {
   "cell_type": "markdown",
   "metadata": {},
   "source": [
    "# Part 1"
   ]
  },
  {
   "cell_type": "code",
   "execution_count": 2,
   "metadata": {},
   "outputs": [
    {
     "name": "stdout",
     "output_type": "stream",
     "text": [
      "id: 10\n"
     ]
    },
    {
     "data": {
      "text/plain": [
       "1928"
      ]
     },
     "execution_count": 2,
     "metadata": {},
     "output_type": "execute_result"
    }
   ],
   "source": [
    "puzzle_input = load_input(\"example.txt\")[0]\n",
    "# puzzle_input = load_input(\"input.txt\")[0]\n",
    "\n",
    "\n",
    "def multiplex(id, size) -> list:\n",
    "    list = []\n",
    "    for _ in range(size):\n",
    "        list.append(id)\n",
    "    return list\n",
    "\n",
    "\n",
    "def create_disk_map(input: str) -> list:\n",
    "    m = []\n",
    "    is_file = True\n",
    "    file_id = 0\n",
    "    for c in input:\n",
    "        size = int(c)\n",
    "        if is_file:\n",
    "            is_file = False\n",
    "            f_id = f\"{file_id}\"\n",
    "            m.extend(multiplex(f_id, size))\n",
    "            file_id += 1\n",
    "        else:\n",
    "            is_file = True\n",
    "            m.extend(multiplex(\".\", size))\n",
    "    print(\"id:\", file_id)\n",
    "    return m\n",
    "\n",
    "\n",
    "def move_blocks(disk_map: list) -> str:\n",
    "    lp = 0\n",
    "    rp = len(disk_map) - 1\n",
    "\n",
    "    while lp != rp:\n",
    "        if disk_map[lp] != \".\":\n",
    "            lp += 1\n",
    "            continue\n",
    "        if disk_map[rp] == \".\":\n",
    "            rp -= 1\n",
    "            continue\n",
    "        tmp = disk_map[lp]\n",
    "        disk_map[lp] = disk_map[rp]\n",
    "        disk_map[rp] = tmp\n",
    "\n",
    "    return disk_map\n",
    "\n",
    "\n",
    "def check_sum(disk_map: str):\n",
    "    sum = 0\n",
    "    for i, id in enumerate(disk_map):\n",
    "        if id == \".\":\n",
    "            continue\n",
    "        sum += int(id) * i\n",
    "    return sum\n",
    "\n",
    "\n",
    "disk_map = create_disk_map(puzzle_input)\n",
    "compacted_map = move_blocks(disk_map)\n",
    "check_sum(compacted_map)"
   ]
  },
  {
   "cell_type": "markdown",
   "metadata": {},
   "source": [
    "# Part 2"
   ]
  },
  {
   "cell_type": "code",
   "execution_count": 6,
   "metadata": {},
   "outputs": [
    {
     "ename": "KeyboardInterrupt",
     "evalue": "",
     "output_type": "error",
     "traceback": [
      "\u001b[1;31m---------------------------------------------------------------------------\u001b[0m",
      "\u001b[1;31mKeyboardInterrupt\u001b[0m                         Traceback (most recent call last)",
      "Cell \u001b[1;32mIn[6], line 63\u001b[0m\n\u001b[0;32m     61\u001b[0m example_str \u001b[38;5;241m=\u001b[39m \u001b[38;5;124m\"\u001b[39m\u001b[38;5;124m00992111777.44.333....5555.6666.....8888..\u001b[39m\u001b[38;5;124m\"\u001b[39m\n\u001b[0;32m     62\u001b[0m disk_map \u001b[38;5;241m=\u001b[39m create_block_disk_map(puzzle_input)\n\u001b[1;32m---> 63\u001b[0m compacted_map \u001b[38;5;241m=\u001b[39m \u001b[43mmove_entire_blocks\u001b[49m\u001b[43m(\u001b[49m\u001b[43mdisk_map\u001b[49m\u001b[43m)\u001b[49m\n\u001b[0;32m     64\u001b[0m \u001b[38;5;124m\"\u001b[39m\u001b[38;5;124m\"\u001b[39m\u001b[38;5;241m.\u001b[39mjoin(compacted_map)\n",
      "Cell \u001b[1;32mIn[6], line 44\u001b[0m, in \u001b[0;36mmove_entire_blocks\u001b[1;34m(disk_map)\u001b[0m\n\u001b[0;32m     42\u001b[0m \u001b[38;5;28;01mfor\u001b[39;00m i \u001b[38;5;129;01min\u001b[39;00m \u001b[38;5;28mrange\u001b[39m(rp, lp, \u001b[38;5;241m-\u001b[39m\u001b[38;5;241m1\u001b[39m):\n\u001b[0;32m     43\u001b[0m     right_pad \u001b[38;5;241m=\u001b[39m disk_map[i][\u001b[38;5;241m1\u001b[39m]\n\u001b[1;32m---> 44\u001b[0m     \u001b[38;5;28;01mif\u001b[39;00m left_pad \u001b[38;5;241m>\u001b[39m\u001b[38;5;241m=\u001b[39m right_pad:\n\u001b[0;32m     45\u001b[0m         space_left \u001b[38;5;241m=\u001b[39m disk_map[lp][\u001b[38;5;241m1\u001b[39m] \u001b[38;5;241m-\u001b[39m disk_map[rp][\u001b[38;5;241m1\u001b[39m]\n\u001b[0;32m     46\u001b[0m         \u001b[38;5;66;03m# remove left node and add space if space left\u001b[39;00m\n",
      "\u001b[1;31mKeyboardInterrupt\u001b[0m: "
     ]
    }
   ],
   "source": [
    "puzzle_input = load_input(\"example.txt\")[0]\n",
    "# puzzle_input = load_input(\"input.txt\")[0]\n",
    "\n",
    "\n",
    "def cnt_pad(disk_map: list, pos: int,  direction: int) -> int:\n",
    "    cnt = 0\n",
    "    while disk_map[pos] == disk_map[pos + (cnt * direction)]:\n",
    "        cnt += 1\n",
    "    return cnt\n",
    "\n",
    "\n",
    "def create_block_disk_map(input: str) -> list:\n",
    "    m = []\n",
    "    is_file = True\n",
    "    file_id = 0\n",
    "    for c in input:\n",
    "        size = int(c)\n",
    "        if is_file:\n",
    "            is_file = False\n",
    "            f_id = f\"{file_id}\"\n",
    "            m.append((f_id, size))\n",
    "            file_id += 1\n",
    "        else:\n",
    "            is_file = True\n",
    "            m.append((\".\", size))\n",
    "    return m\n",
    "\n",
    "\n",
    "def move_entire_blocks(disk_map: list):\n",
    "    lp = 0\n",
    "    rp = len(disk_map) - 1\n",
    "\n",
    "    while lp != rp:\n",
    "        if disk_map[lp][0] != \".\":\n",
    "            lp += 1\n",
    "            continue\n",
    "        if disk_map[rp][0] == \".\":\n",
    "            rp -= 1\n",
    "            continue\n",
    "\n",
    "        left_pad = disk_map[lp][1]\n",
    "        for i in range(rp, lp, -1):\n",
    "            right_pad = disk_map[i][1]\n",
    "            if left_pad >= right_pad:\n",
    "                space_left = disk_map[lp][1] - disk_map[rp][1]\n",
    "                # remove left node and add space if space left\n",
    "                disk_map.pop(lp)\n",
    "                if space_left > 0:\n",
    "                    disk_map.insert(lp, (\".\", space_left))\n",
    "                \n",
    "                # remove right node \n",
    "                disk_map.pop(rp)\n",
    "                disk_map.insert(rp, (\".\", right_pad))\n",
    "                \n",
    "                disk_map.insert(lp, disk_map[rp])\n",
    "                break\n",
    "\n",
    "    return disk_map\n",
    "\n",
    "\n",
    "example_str = \"00992111777.44.333....5555.6666.....8888..\"\n",
    "disk_map = create_block_disk_map(puzzle_input)\n",
    "compacted_map = move_entire_blocks(disk_map)\n",
    "\"\".join(compacted_map)"
   ]
  },
  {
   "cell_type": "code",
   "execution_count": null,
   "metadata": {},
   "outputs": [],
   "source": []
  }
 ],
 "metadata": {
  "kernelspec": {
   "display_name": "env",
   "language": "python",
   "name": "python3"
  },
  "language_info": {
   "codemirror_mode": {
    "name": "ipython",
    "version": 3
   },
   "file_extension": ".py",
   "mimetype": "text/x-python",
   "name": "python",
   "nbconvert_exporter": "python",
   "pygments_lexer": "ipython3",
   "version": "3.11.9"
  }
 },
 "nbformat": 4,
 "nbformat_minor": 2
}
