{
 "cells": [
  {
   "cell_type": "code",
   "execution_count": 2,
   "metadata": {},
   "outputs": [],
   "source": [
    "def load_input(path: str) -> list[str]:\n",
    "    with open(path) as infile:\n",
    "        return infile.read().splitlines()\n"
   ]
  },
  {
   "cell_type": "markdown",
   "metadata": {},
   "source": [
    "# Part 1"
   ]
  },
  {
   "cell_type": "code",
   "execution_count": 3,
   "metadata": {},
   "outputs": [
    {
     "data": {
      "text/plain": [
       "'0099811188827773336446555566..............'"
      ]
     },
     "metadata": {},
     "output_type": "display_data"
    },
    {
     "data": {
      "text/plain": [
       "1928"
      ]
     },
     "execution_count": 3,
     "metadata": {},
     "output_type": "execute_result"
    }
   ],
   "source": [
    "puzzle_input = load_input(\"example.txt\")[0]\n",
    "# puzzle_input = load_input(\"input.txt\")[0]\n",
    "\n",
    "\n",
    "def create_disk_map(input: str) -> str:\n",
    "    m = \"\"\n",
    "    is_file = True\n",
    "    file_id = 0\n",
    "    for c in input:\n",
    "        size = int(c)\n",
    "        if is_file:\n",
    "            is_file = False\n",
    "            m += f\"{file_id}\" * size\n",
    "            file_id += 1\n",
    "        else:\n",
    "            is_file = True\n",
    "            m += \".\" * size\n",
    "    return m\n",
    "\n",
    "\n",
    "def move_blocks(disk_map: str) -> str:\n",
    "    disk_map = list(disk_map)\n",
    "    lp = 0\n",
    "    rp = len(disk_map) - 1\n",
    "\n",
    "    while lp != rp:\n",
    "        if disk_map[lp] != \".\":\n",
    "            lp += 1\n",
    "            continue\n",
    "        if disk_map[rp] == \".\":\n",
    "            rp -= 1\n",
    "            continue\n",
    "        tmp = disk_map[lp]\n",
    "        disk_map[lp] = disk_map[rp]\n",
    "        disk_map[rp] = tmp\n",
    "\n",
    "    return \"\".join(disk_map)\n",
    "\n",
    "\n",
    "def check_sum(disk_map: str):\n",
    "    sum = 0\n",
    "    for i, id in enumerate(disk_map):\n",
    "        if id == \".\":\n",
    "            continue\n",
    "        sum += int(id) * i\n",
    "    return sum\n",
    "\n",
    "disk_map = create_disk_map(puzzle_input)\n",
    "compacted_map = move_blocks(disk_map)\n",
    "display(compacted_map)\n",
    "check_sum(compacted_map)"
   ]
  },
  {
   "cell_type": "markdown",
   "metadata": {},
   "source": [
    "# Part 2"
   ]
  },
  {
   "cell_type": "code",
   "execution_count": 4,
   "metadata": {},
   "outputs": [],
   "source": [
    "puzzle_input = load_input(\"example.txt\")\n",
    "# puzzle_input = load_input(\"input.txt\")\n",
    "\n"
   ]
  }
 ],
 "metadata": {
  "kernelspec": {
   "display_name": "env",
   "language": "python",
   "name": "python3"
  },
  "language_info": {
   "codemirror_mode": {
    "name": "ipython",
    "version": 3
   },
   "file_extension": ".py",
   "mimetype": "text/x-python",
   "name": "python",
   "nbconvert_exporter": "python",
   "pygments_lexer": "ipython3",
   "version": "3.11.9"
  }
 },
 "nbformat": 4,
 "nbformat_minor": 2
}
